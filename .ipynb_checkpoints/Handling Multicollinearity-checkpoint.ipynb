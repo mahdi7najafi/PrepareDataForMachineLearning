{
 "cells": [
  {
   "cell_type": "code",
   "execution_count": 1,
   "metadata": {},
   "outputs": [],
   "source": [
    "import pandas as pd"
   ]
  },
  {
   "cell_type": "code",
   "execution_count": 2,
   "metadata": {},
   "outputs": [
    {
     "data": {
      "text/html": [
       "<div>\n",
       "<style scoped>\n",
       "    .dataframe tbody tr th:only-of-type {\n",
       "        vertical-align: middle;\n",
       "    }\n",
       "\n",
       "    .dataframe tbody tr th {\n",
       "        vertical-align: top;\n",
       "    }\n",
       "\n",
       "    .dataframe thead th {\n",
       "        text-align: right;\n",
       "    }\n",
       "</style>\n",
       "<table border=\"1\" class=\"dataframe\">\n",
       "  <thead>\n",
       "    <tr style=\"text-align: right;\">\n",
       "      <th></th>\n",
       "      <th>MPG</th>\n",
       "      <th>Cylinders</th>\n",
       "      <th>Displacement</th>\n",
       "      <th>Horsepower</th>\n",
       "      <th>Weight</th>\n",
       "      <th>Acceleration</th>\n",
       "      <th>Origin</th>\n",
       "      <th>Age</th>\n",
       "    </tr>\n",
       "  </thead>\n",
       "  <tbody>\n",
       "    <tr>\n",
       "      <td>0</td>\n",
       "      <td>18.000000</td>\n",
       "      <td>8</td>\n",
       "      <td>307.0</td>\n",
       "      <td>130</td>\n",
       "      <td>3504</td>\n",
       "      <td>12.0</td>\n",
       "      <td>US</td>\n",
       "      <td>51</td>\n",
       "    </tr>\n",
       "    <tr>\n",
       "      <td>1</td>\n",
       "      <td>16.000000</td>\n",
       "      <td>8</td>\n",
       "      <td>304.0</td>\n",
       "      <td>150</td>\n",
       "      <td>3433</td>\n",
       "      <td>12.0</td>\n",
       "      <td>US</td>\n",
       "      <td>51</td>\n",
       "    </tr>\n",
       "    <tr>\n",
       "      <td>2</td>\n",
       "      <td>17.000000</td>\n",
       "      <td>8</td>\n",
       "      <td>302.0</td>\n",
       "      <td>140</td>\n",
       "      <td>3449</td>\n",
       "      <td>10.5</td>\n",
       "      <td>US</td>\n",
       "      <td>51</td>\n",
       "    </tr>\n",
       "    <tr>\n",
       "      <td>3</td>\n",
       "      <td>14.000000</td>\n",
       "      <td>8</td>\n",
       "      <td>454.0</td>\n",
       "      <td>220</td>\n",
       "      <td>4354</td>\n",
       "      <td>9.0</td>\n",
       "      <td>US</td>\n",
       "      <td>51</td>\n",
       "    </tr>\n",
       "    <tr>\n",
       "      <td>4</td>\n",
       "      <td>23.551429</td>\n",
       "      <td>8</td>\n",
       "      <td>440.0</td>\n",
       "      <td>215</td>\n",
       "      <td>4312</td>\n",
       "      <td>8.5</td>\n",
       "      <td>US</td>\n",
       "      <td>51</td>\n",
       "    </tr>\n",
       "  </tbody>\n",
       "</table>\n",
       "</div>"
      ],
      "text/plain": [
       "         MPG  Cylinders  Displacement  Horsepower  Weight  Acceleration  \\\n",
       "0  18.000000          8         307.0         130    3504          12.0   \n",
       "1  16.000000          8         304.0         150    3433          12.0   \n",
       "2  17.000000          8         302.0         140    3449          10.5   \n",
       "3  14.000000          8         454.0         220    4354           9.0   \n",
       "4  23.551429          8         440.0         215    4312           8.5   \n",
       "\n",
       "  Origin  Age  \n",
       "0     US   51  \n",
       "1     US   51  \n",
       "2     US   51  \n",
       "3     US   51  \n",
       "4     US   51  "
      ]
     },
     "execution_count": 2,
     "metadata": {},
     "output_type": "execute_result"
    }
   ],
   "source": [
    "df = pd.read_csv('datasets/cars_processed.csv')\n",
    "df.head(5)"
   ]
  },
  {
   "cell_type": "code",
   "execution_count": 3,
   "metadata": {},
   "outputs": [
    {
     "data": {
      "text/html": [
       "<div>\n",
       "<style scoped>\n",
       "    .dataframe tbody tr th:only-of-type {\n",
       "        vertical-align: middle;\n",
       "    }\n",
       "\n",
       "    .dataframe tbody tr th {\n",
       "        vertical-align: top;\n",
       "    }\n",
       "\n",
       "    .dataframe thead th {\n",
       "        text-align: right;\n",
       "    }\n",
       "</style>\n",
       "<table border=\"1\" class=\"dataframe\">\n",
       "  <thead>\n",
       "    <tr style=\"text-align: right;\">\n",
       "      <th></th>\n",
       "      <th>MPG</th>\n",
       "      <th>Cylinders</th>\n",
       "      <th>Displacement</th>\n",
       "      <th>Horsepower</th>\n",
       "      <th>Weight</th>\n",
       "      <th>Acceleration</th>\n",
       "      <th>Age</th>\n",
       "    </tr>\n",
       "  </thead>\n",
       "  <tbody>\n",
       "    <tr>\n",
       "      <td>count</td>\n",
       "      <td>387.000000</td>\n",
       "      <td>387.000000</td>\n",
       "      <td>387.000000</td>\n",
       "      <td>387.000000</td>\n",
       "      <td>387.000000</td>\n",
       "      <td>387.000000</td>\n",
       "      <td>387.000000</td>\n",
       "    </tr>\n",
       "    <tr>\n",
       "      <td>mean</td>\n",
       "      <td>23.672514</td>\n",
       "      <td>5.410853</td>\n",
       "      <td>192.184755</td>\n",
       "      <td>103.645995</td>\n",
       "      <td>2965.387597</td>\n",
       "      <td>15.573643</td>\n",
       "      <td>44.917313</td>\n",
       "    </tr>\n",
       "    <tr>\n",
       "      <td>std</td>\n",
       "      <td>7.736579</td>\n",
       "      <td>1.667795</td>\n",
       "      <td>103.703706</td>\n",
       "      <td>38.128651</td>\n",
       "      <td>846.332848</td>\n",
       "      <td>2.746260</td>\n",
       "      <td>3.668715</td>\n",
       "    </tr>\n",
       "    <tr>\n",
       "      <td>min</td>\n",
       "      <td>9.000000</td>\n",
       "      <td>3.000000</td>\n",
       "      <td>68.000000</td>\n",
       "      <td>46.000000</td>\n",
       "      <td>1613.000000</td>\n",
       "      <td>8.000000</td>\n",
       "      <td>39.000000</td>\n",
       "    </tr>\n",
       "    <tr>\n",
       "      <td>25%</td>\n",
       "      <td>17.600000</td>\n",
       "      <td>4.000000</td>\n",
       "      <td>102.500000</td>\n",
       "      <td>75.000000</td>\n",
       "      <td>2221.500000</td>\n",
       "      <td>13.900000</td>\n",
       "      <td>42.000000</td>\n",
       "    </tr>\n",
       "    <tr>\n",
       "      <td>50%</td>\n",
       "      <td>23.200000</td>\n",
       "      <td>4.000000</td>\n",
       "      <td>146.000000</td>\n",
       "      <td>92.000000</td>\n",
       "      <td>2790.000000</td>\n",
       "      <td>15.500000</td>\n",
       "      <td>45.000000</td>\n",
       "    </tr>\n",
       "    <tr>\n",
       "      <td>75%</td>\n",
       "      <td>29.000000</td>\n",
       "      <td>6.000000</td>\n",
       "      <td>260.000000</td>\n",
       "      <td>121.000000</td>\n",
       "      <td>3589.500000</td>\n",
       "      <td>17.050000</td>\n",
       "      <td>48.000000</td>\n",
       "    </tr>\n",
       "    <tr>\n",
       "      <td>max</td>\n",
       "      <td>46.600000</td>\n",
       "      <td>8.000000</td>\n",
       "      <td>455.000000</td>\n",
       "      <td>230.000000</td>\n",
       "      <td>5140.000000</td>\n",
       "      <td>24.800000</td>\n",
       "      <td>51.000000</td>\n",
       "    </tr>\n",
       "  </tbody>\n",
       "</table>\n",
       "</div>"
      ],
      "text/plain": [
       "              MPG   Cylinders  Displacement  Horsepower       Weight  \\\n",
       "count  387.000000  387.000000    387.000000  387.000000   387.000000   \n",
       "mean    23.672514    5.410853    192.184755  103.645995  2965.387597   \n",
       "std      7.736579    1.667795    103.703706   38.128651   846.332848   \n",
       "min      9.000000    3.000000     68.000000   46.000000  1613.000000   \n",
       "25%     17.600000    4.000000    102.500000   75.000000  2221.500000   \n",
       "50%     23.200000    4.000000    146.000000   92.000000  2790.000000   \n",
       "75%     29.000000    6.000000    260.000000  121.000000  3589.500000   \n",
       "max     46.600000    8.000000    455.000000  230.000000  5140.000000   \n",
       "\n",
       "       Acceleration         Age  \n",
       "count    387.000000  387.000000  \n",
       "mean      15.573643   44.917313  \n",
       "std        2.746260    3.668715  \n",
       "min        8.000000   39.000000  \n",
       "25%       13.900000   42.000000  \n",
       "50%       15.500000   45.000000  \n",
       "75%       17.050000   48.000000  \n",
       "max       24.800000   51.000000  "
      ]
     },
     "execution_count": 3,
     "metadata": {},
     "output_type": "execute_result"
    }
   ],
   "source": [
    "df.describe()"
   ]
  },
  {
   "cell_type": "code",
   "execution_count": 4,
   "metadata": {},
   "outputs": [],
   "source": [
    "from sklearn import preprocessing\n",
    "\n",
    "df[['Cylinders']] = preprocessing.scale(df[['Cylinders']].astype('float64'))\n",
    "df[['Displacement']] = preprocessing.scale(df[['Displacement']].astype('float64'))\n",
    "df[['Horsepower']] = preprocessing.scale(df[['Horsepower']].astype('float64'))\n",
    "df[['Weight']] = preprocessing.scale(df[['Weight']].astype('float64'))\n",
    "df[['Acceleration']] = preprocessing.scale(df[['Acceleration']].astype('float64'))\n",
    "df[['Age']] = preprocessing.scale(df[['Age']].astype('float64'))"
   ]
  },
  {
   "cell_type": "code",
   "execution_count": 5,
   "metadata": {},
   "outputs": [
    {
     "data": {
      "text/html": [
       "<div>\n",
       "<style scoped>\n",
       "    .dataframe tbody tr th:only-of-type {\n",
       "        vertical-align: middle;\n",
       "    }\n",
       "\n",
       "    .dataframe tbody tr th {\n",
       "        vertical-align: top;\n",
       "    }\n",
       "\n",
       "    .dataframe thead th {\n",
       "        text-align: right;\n",
       "    }\n",
       "</style>\n",
       "<table border=\"1\" class=\"dataframe\">\n",
       "  <thead>\n",
       "    <tr style=\"text-align: right;\">\n",
       "      <th></th>\n",
       "      <th>MPG</th>\n",
       "      <th>Cylinders</th>\n",
       "      <th>Displacement</th>\n",
       "      <th>Horsepower</th>\n",
       "      <th>Weight</th>\n",
       "      <th>Acceleration</th>\n",
       "      <th>Age</th>\n",
       "    </tr>\n",
       "  </thead>\n",
       "  <tbody>\n",
       "    <tr>\n",
       "      <td>count</td>\n",
       "      <td>387.000000</td>\n",
       "      <td>3.870000e+02</td>\n",
       "      <td>3.870000e+02</td>\n",
       "      <td>3.870000e+02</td>\n",
       "      <td>3.870000e+02</td>\n",
       "      <td>3.870000e+02</td>\n",
       "      <td>3.870000e+02</td>\n",
       "    </tr>\n",
       "    <tr>\n",
       "      <td>mean</td>\n",
       "      <td>23.672514</td>\n",
       "      <td>1.095879e-16</td>\n",
       "      <td>8.778508e-17</td>\n",
       "      <td>-1.061454e-17</td>\n",
       "      <td>-2.008155e-18</td>\n",
       "      <td>2.662240e-16</td>\n",
       "      <td>5.817913e-16</td>\n",
       "    </tr>\n",
       "    <tr>\n",
       "      <td>std</td>\n",
       "      <td>7.736579</td>\n",
       "      <td>1.001294e+00</td>\n",
       "      <td>1.001294e+00</td>\n",
       "      <td>1.001294e+00</td>\n",
       "      <td>1.001294e+00</td>\n",
       "      <td>1.001294e+00</td>\n",
       "      <td>1.001294e+00</td>\n",
       "    </tr>\n",
       "    <tr>\n",
       "      <td>min</td>\n",
       "      <td>9.000000</td>\n",
       "      <td>-1.447404e+00</td>\n",
       "      <td>-1.199046e+00</td>\n",
       "      <td>-1.513838e+00</td>\n",
       "      <td>-1.600007e+00</td>\n",
       "      <td>-2.761372e+00</td>\n",
       "      <td>-1.615000e+00</td>\n",
       "    </tr>\n",
       "    <tr>\n",
       "      <td>25%</td>\n",
       "      <td>17.600000</td>\n",
       "      <td>-8.470340e-01</td>\n",
       "      <td>-8.659368e-01</td>\n",
       "      <td>-7.522710e-01</td>\n",
       "      <td>-8.800918e-01</td>\n",
       "      <td>-6.102152e-01</td>\n",
       "      <td>-7.962160e-01</td>\n",
       "    </tr>\n",
       "    <tr>\n",
       "      <td>50%</td>\n",
       "      <td>23.200000</td>\n",
       "      <td>-8.470340e-01</td>\n",
       "      <td>-4.459295e-01</td>\n",
       "      <td>-3.058349e-01</td>\n",
       "      <td>-2.075007e-01</td>\n",
       "      <td>-2.685060e-02</td>\n",
       "      <td>2.256768e-02</td>\n",
       "    </tr>\n",
       "    <tr>\n",
       "      <td>75%</td>\n",
       "      <td>29.000000</td>\n",
       "      <td>3.537065e-01</td>\n",
       "      <td>6.547792e-01</td>\n",
       "      <td>4.557326e-01</td>\n",
       "      <td>7.383860e-01</td>\n",
       "      <td>5.382839e-01</td>\n",
       "      <td>8.413513e-01</td>\n",
       "    </tr>\n",
       "    <tr>\n",
       "      <td>max</td>\n",
       "      <td>46.600000</td>\n",
       "      <td>1.554447e+00</td>\n",
       "      <td>2.537570e+00</td>\n",
       "      <td>3.318176e+00</td>\n",
       "      <td>2.572779e+00</td>\n",
       "      <td>3.363956e+00</td>\n",
       "      <td>1.660135e+00</td>\n",
       "    </tr>\n",
       "  </tbody>\n",
       "</table>\n",
       "</div>"
      ],
      "text/plain": [
       "              MPG     Cylinders  Displacement    Horsepower        Weight  \\\n",
       "count  387.000000  3.870000e+02  3.870000e+02  3.870000e+02  3.870000e+02   \n",
       "mean    23.672514  1.095879e-16  8.778508e-17 -1.061454e-17 -2.008155e-18   \n",
       "std      7.736579  1.001294e+00  1.001294e+00  1.001294e+00  1.001294e+00   \n",
       "min      9.000000 -1.447404e+00 -1.199046e+00 -1.513838e+00 -1.600007e+00   \n",
       "25%     17.600000 -8.470340e-01 -8.659368e-01 -7.522710e-01 -8.800918e-01   \n",
       "50%     23.200000 -8.470340e-01 -4.459295e-01 -3.058349e-01 -2.075007e-01   \n",
       "75%     29.000000  3.537065e-01  6.547792e-01  4.557326e-01  7.383860e-01   \n",
       "max     46.600000  1.554447e+00  2.537570e+00  3.318176e+00  2.572779e+00   \n",
       "\n",
       "       Acceleration           Age  \n",
       "count  3.870000e+02  3.870000e+02  \n",
       "mean   2.662240e-16  5.817913e-16  \n",
       "std    1.001294e+00  1.001294e+00  \n",
       "min   -2.761372e+00 -1.615000e+00  \n",
       "25%   -6.102152e-01 -7.962160e-01  \n",
       "50%   -2.685060e-02  2.256768e-02  \n",
       "75%    5.382839e-01  8.413513e-01  \n",
       "max    3.363956e+00  1.660135e+00  "
      ]
     },
     "execution_count": 5,
     "metadata": {},
     "output_type": "execute_result"
    }
   ],
   "source": [
    "df.describe()"
   ]
  },
  {
   "cell_type": "code",
   "execution_count": 6,
   "metadata": {},
   "outputs": [
    {
     "data": {
      "text/plain": [
       "(387, 8)"
      ]
     },
     "execution_count": 6,
     "metadata": {},
     "output_type": "execute_result"
    }
   ],
   "source": [
    "df.shape"
   ]
  },
  {
   "cell_type": "code",
   "execution_count": 7,
   "metadata": {},
   "outputs": [],
   "source": [
    "from sklearn.model_selection import train_test_split"
   ]
  },
  {
   "cell_type": "code",
   "execution_count": 8,
   "metadata": {},
   "outputs": [],
   "source": [
    "X = df.drop(['MPG', 'Origin'], axis=1)\n",
    "Y = df['MPG'] \n",
    "\n",
    "x_train, x_test, y_train, y_test = train_test_split(X,Y, test_size=0.2)"
   ]
  },
  {
   "cell_type": "code",
   "execution_count": 9,
   "metadata": {},
   "outputs": [],
   "source": [
    "from sklearn.linear_model import LinearRegression\n",
    "\n",
    "linear_model = LinearRegression(normalize=True).fit(x_train, y_train)"
   ]
  },
  {
   "cell_type": "code",
   "execution_count": 10,
   "metadata": {},
   "outputs": [
    {
     "name": "stdout",
     "output_type": "stream",
     "text": [
      "Training Score:  0.7976398003858018\n"
     ]
    }
   ],
   "source": [
    "print(\"Training Score: \", linear_model.score(x_train, y_train))"
   ]
  },
  {
   "cell_type": "code",
   "execution_count": 11,
   "metadata": {},
   "outputs": [],
   "source": [
    "y_pred = linear_model.predict(x_test)"
   ]
  },
  {
   "cell_type": "code",
   "execution_count": 12,
   "metadata": {},
   "outputs": [
    {
     "name": "stdout",
     "output_type": "stream",
     "text": [
      "Testing Score:  0.7362945615846349\n"
     ]
    }
   ],
   "source": [
    "from sklearn.metrics import r2_score\n",
    "\n",
    "print(\"Testing Score: \", r2_score(y_test, y_pred))"
   ]
  },
  {
   "cell_type": "code",
   "execution_count": 13,
   "metadata": {},
   "outputs": [],
   "source": [
    "def adjusted_r2(r_square, labels, features):\n",
    "    \n",
    "    adj_r_square = 1 - ((1 - r_square) * (len(labels) - 1)) / (len(labels) - features.shape[1]-1)\n",
    "    \n",
    "    return adj_r_square"
   ]
  },
  {
   "cell_type": "code",
   "execution_count": 14,
   "metadata": {},
   "outputs": [
    {
     "name": "stdout",
     "output_type": "stream",
     "text": [
      "Adjusted_r2_score:  0.7140095949579843\n"
     ]
    }
   ],
   "source": [
    "print(\"Adjusted_r2_score: \", adjusted_r2(r2_score(y_test, y_pred), y_test, x_test))"
   ]
  },
  {
   "cell_type": "code",
   "execution_count": 15,
   "metadata": {},
   "outputs": [
    {
     "data": {
      "text/html": [
       "<div>\n",
       "<style scoped>\n",
       "    .dataframe tbody tr th:only-of-type {\n",
       "        vertical-align: middle;\n",
       "    }\n",
       "\n",
       "    .dataframe tbody tr th {\n",
       "        vertical-align: top;\n",
       "    }\n",
       "\n",
       "    .dataframe thead th {\n",
       "        text-align: right;\n",
       "    }\n",
       "</style>\n",
       "<table border=\"1\" class=\"dataframe\">\n",
       "  <thead>\n",
       "    <tr style=\"text-align: right;\">\n",
       "      <th></th>\n",
       "      <th>Cylinders</th>\n",
       "      <th>Displacement</th>\n",
       "      <th>Horsepower</th>\n",
       "      <th>Weight</th>\n",
       "      <th>Acceleration</th>\n",
       "      <th>Age</th>\n",
       "    </tr>\n",
       "  </thead>\n",
       "  <tbody>\n",
       "    <tr>\n",
       "      <td>Cylinders</td>\n",
       "      <td>1.000000</td>\n",
       "      <td>0.922633</td>\n",
       "      <td>0.811466</td>\n",
       "      <td>0.873029</td>\n",
       "      <td>-0.458161</td>\n",
       "      <td>0.321850</td>\n",
       "    </tr>\n",
       "    <tr>\n",
       "      <td>Displacement</td>\n",
       "      <td>0.922633</td>\n",
       "      <td>1.000000</td>\n",
       "      <td>0.894199</td>\n",
       "      <td>0.932822</td>\n",
       "      <td>-0.526901</td>\n",
       "      <td>0.357047</td>\n",
       "    </tr>\n",
       "    <tr>\n",
       "      <td>Horsepower</td>\n",
       "      <td>0.811466</td>\n",
       "      <td>0.894199</td>\n",
       "      <td>1.000000</td>\n",
       "      <td>0.863388</td>\n",
       "      <td>-0.670920</td>\n",
       "      <td>0.404458</td>\n",
       "    </tr>\n",
       "    <tr>\n",
       "      <td>Weight</td>\n",
       "      <td>0.873029</td>\n",
       "      <td>0.932822</td>\n",
       "      <td>0.863388</td>\n",
       "      <td>1.000000</td>\n",
       "      <td>-0.397181</td>\n",
       "      <td>0.299049</td>\n",
       "    </tr>\n",
       "    <tr>\n",
       "      <td>Acceleration</td>\n",
       "      <td>-0.458161</td>\n",
       "      <td>-0.526901</td>\n",
       "      <td>-0.670920</td>\n",
       "      <td>-0.397181</td>\n",
       "      <td>1.000000</td>\n",
       "      <td>-0.292705</td>\n",
       "    </tr>\n",
       "    <tr>\n",
       "      <td>Age</td>\n",
       "      <td>0.321850</td>\n",
       "      <td>0.357047</td>\n",
       "      <td>0.404458</td>\n",
       "      <td>0.299049</td>\n",
       "      <td>-0.292705</td>\n",
       "      <td>1.000000</td>\n",
       "    </tr>\n",
       "  </tbody>\n",
       "</table>\n",
       "</div>"
      ],
      "text/plain": [
       "              Cylinders  Displacement  Horsepower    Weight  Acceleration  \\\n",
       "Cylinders      1.000000      0.922633    0.811466  0.873029     -0.458161   \n",
       "Displacement   0.922633      1.000000    0.894199  0.932822     -0.526901   \n",
       "Horsepower     0.811466      0.894199    1.000000  0.863388     -0.670920   \n",
       "Weight         0.873029      0.932822    0.863388  1.000000     -0.397181   \n",
       "Acceleration  -0.458161     -0.526901   -0.670920 -0.397181      1.000000   \n",
       "Age            0.321850      0.357047    0.404458  0.299049     -0.292705   \n",
       "\n",
       "                   Age  \n",
       "Cylinders     0.321850  \n",
       "Displacement  0.357047  \n",
       "Horsepower    0.404458  \n",
       "Weight        0.299049  \n",
       "Acceleration -0.292705  \n",
       "Age           1.000000  "
      ]
     },
     "execution_count": 15,
     "metadata": {},
     "output_type": "execute_result"
    }
   ],
   "source": [
    "features_corr = X.corr()\n",
    "features_corr"
   ]
  },
  {
   "cell_type": "markdown",
   "metadata": {},
   "source": [
    "Cylinder Horsepower and Weight are highly correlated to the Displacement"
   ]
  },
  {
   "cell_type": "code",
   "execution_count": 16,
   "metadata": {},
   "outputs": [
    {
     "data": {
      "text/html": [
       "<div>\n",
       "<style scoped>\n",
       "    .dataframe tbody tr th:only-of-type {\n",
       "        vertical-align: middle;\n",
       "    }\n",
       "\n",
       "    .dataframe tbody tr th {\n",
       "        vertical-align: top;\n",
       "    }\n",
       "\n",
       "    .dataframe thead th {\n",
       "        text-align: right;\n",
       "    }\n",
       "</style>\n",
       "<table border=\"1\" class=\"dataframe\">\n",
       "  <thead>\n",
       "    <tr style=\"text-align: right;\">\n",
       "      <th></th>\n",
       "      <th>Cylinders</th>\n",
       "      <th>Displacement</th>\n",
       "      <th>Horsepower</th>\n",
       "      <th>Weight</th>\n",
       "      <th>Acceleration</th>\n",
       "      <th>Age</th>\n",
       "    </tr>\n",
       "  </thead>\n",
       "  <tbody>\n",
       "    <tr>\n",
       "      <td>Cylinders</td>\n",
       "      <td>True</td>\n",
       "      <td>True</td>\n",
       "      <td>True</td>\n",
       "      <td>True</td>\n",
       "      <td>False</td>\n",
       "      <td>False</td>\n",
       "    </tr>\n",
       "    <tr>\n",
       "      <td>Displacement</td>\n",
       "      <td>True</td>\n",
       "      <td>True</td>\n",
       "      <td>True</td>\n",
       "      <td>True</td>\n",
       "      <td>False</td>\n",
       "      <td>False</td>\n",
       "    </tr>\n",
       "    <tr>\n",
       "      <td>Horsepower</td>\n",
       "      <td>True</td>\n",
       "      <td>True</td>\n",
       "      <td>True</td>\n",
       "      <td>True</td>\n",
       "      <td>False</td>\n",
       "      <td>False</td>\n",
       "    </tr>\n",
       "    <tr>\n",
       "      <td>Weight</td>\n",
       "      <td>True</td>\n",
       "      <td>True</td>\n",
       "      <td>True</td>\n",
       "      <td>True</td>\n",
       "      <td>False</td>\n",
       "      <td>False</td>\n",
       "    </tr>\n",
       "    <tr>\n",
       "      <td>Acceleration</td>\n",
       "      <td>False</td>\n",
       "      <td>False</td>\n",
       "      <td>False</td>\n",
       "      <td>False</td>\n",
       "      <td>True</td>\n",
       "      <td>False</td>\n",
       "    </tr>\n",
       "    <tr>\n",
       "      <td>Age</td>\n",
       "      <td>False</td>\n",
       "      <td>False</td>\n",
       "      <td>False</td>\n",
       "      <td>False</td>\n",
       "      <td>False</td>\n",
       "      <td>True</td>\n",
       "    </tr>\n",
       "  </tbody>\n",
       "</table>\n",
       "</div>"
      ],
      "text/plain": [
       "              Cylinders  Displacement  Horsepower  Weight  Acceleration    Age\n",
       "Cylinders          True          True        True    True         False  False\n",
       "Displacement       True          True        True    True         False  False\n",
       "Horsepower         True          True        True    True         False  False\n",
       "Weight             True          True        True    True         False  False\n",
       "Acceleration      False         False       False   False          True  False\n",
       "Age               False         False       False   False         False   True"
      ]
     },
     "execution_count": 16,
     "metadata": {},
     "output_type": "execute_result"
    }
   ],
   "source": [
    "abs(features_corr) > 0.8"
   ]
  },
  {
   "cell_type": "code",
   "execution_count": 17,
   "metadata": {},
   "outputs": [
    {
     "data": {
      "text/html": [
       "<div>\n",
       "<style scoped>\n",
       "    .dataframe tbody tr th:only-of-type {\n",
       "        vertical-align: middle;\n",
       "    }\n",
       "\n",
       "    .dataframe tbody tr th {\n",
       "        vertical-align: top;\n",
       "    }\n",
       "\n",
       "    .dataframe thead th {\n",
       "        text-align: right;\n",
       "    }\n",
       "</style>\n",
       "<table border=\"1\" class=\"dataframe\">\n",
       "  <thead>\n",
       "    <tr style=\"text-align: right;\">\n",
       "      <th></th>\n",
       "      <th>Horsepower</th>\n",
       "      <th>Acceleration</th>\n",
       "      <th>Age</th>\n",
       "    </tr>\n",
       "  </thead>\n",
       "  <tbody>\n",
       "    <tr>\n",
       "      <td>Horsepower</td>\n",
       "      <td>1.000000</td>\n",
       "      <td>-0.670920</td>\n",
       "      <td>0.404458</td>\n",
       "    </tr>\n",
       "    <tr>\n",
       "      <td>Acceleration</td>\n",
       "      <td>-0.670920</td>\n",
       "      <td>1.000000</td>\n",
       "      <td>-0.292705</td>\n",
       "    </tr>\n",
       "    <tr>\n",
       "      <td>Age</td>\n",
       "      <td>0.404458</td>\n",
       "      <td>-0.292705</td>\n",
       "      <td>1.000000</td>\n",
       "    </tr>\n",
       "  </tbody>\n",
       "</table>\n",
       "</div>"
      ],
      "text/plain": [
       "              Horsepower  Acceleration       Age\n",
       "Horsepower      1.000000     -0.670920  0.404458\n",
       "Acceleration   -0.670920      1.000000 -0.292705\n",
       "Age             0.404458     -0.292705  1.000000"
      ]
     },
     "execution_count": 17,
     "metadata": {},
     "output_type": "execute_result"
    }
   ],
   "source": [
    "trimmed_features_df = X.drop(['Cylinders', 'Displacement', 'Weight'], axis=1)\n",
    "\n",
    "trimmed_features_corr = trimmed_features_df.corr()\n",
    "trimmed_features_corr"
   ]
  },
  {
   "cell_type": "code",
   "execution_count": 18,
   "metadata": {},
   "outputs": [
    {
     "data": {
      "text/html": [
       "<div>\n",
       "<style scoped>\n",
       "    .dataframe tbody tr th:only-of-type {\n",
       "        vertical-align: middle;\n",
       "    }\n",
       "\n",
       "    .dataframe tbody tr th {\n",
       "        vertical-align: top;\n",
       "    }\n",
       "\n",
       "    .dataframe thead th {\n",
       "        text-align: right;\n",
       "    }\n",
       "</style>\n",
       "<table border=\"1\" class=\"dataframe\">\n",
       "  <thead>\n",
       "    <tr style=\"text-align: right;\">\n",
       "      <th></th>\n",
       "      <th>Horsepower</th>\n",
       "      <th>Acceleration</th>\n",
       "      <th>Age</th>\n",
       "    </tr>\n",
       "  </thead>\n",
       "  <tbody>\n",
       "    <tr>\n",
       "      <td>Horsepower</td>\n",
       "      <td>True</td>\n",
       "      <td>False</td>\n",
       "      <td>False</td>\n",
       "    </tr>\n",
       "    <tr>\n",
       "      <td>Acceleration</td>\n",
       "      <td>False</td>\n",
       "      <td>True</td>\n",
       "      <td>False</td>\n",
       "    </tr>\n",
       "    <tr>\n",
       "      <td>Age</td>\n",
       "      <td>False</td>\n",
       "      <td>False</td>\n",
       "      <td>True</td>\n",
       "    </tr>\n",
       "  </tbody>\n",
       "</table>\n",
       "</div>"
      ],
      "text/plain": [
       "              Horsepower  Acceleration    Age\n",
       "Horsepower          True         False  False\n",
       "Acceleration       False          True  False\n",
       "Age                False         False   True"
      ]
     },
     "execution_count": 18,
     "metadata": {},
     "output_type": "execute_result"
    }
   ],
   "source": [
    "abs(trimmed_features_corr) > 0.8"
   ]
  },
  {
   "cell_type": "code",
   "execution_count": 19,
   "metadata": {},
   "outputs": [],
   "source": [
    "from statsmodels.stats.outliers_influence import variance_inflation_factor"
   ]
  },
  {
   "cell_type": "code",
   "execution_count": 21,
   "metadata": {},
   "outputs": [],
   "source": [
    "vif = pd.DataFrame()\n",
    "vif['VIF Factors'] = [variance_inflation_factor(X.values, i) for i in range(X.shape[1])]"
   ]
  },
  {
   "cell_type": "code",
   "execution_count": 22,
   "metadata": {},
   "outputs": [],
   "source": [
    "vif['features'] = X.columns"
   ]
  },
  {
   "cell_type": "code",
   "execution_count": 23,
   "metadata": {},
   "outputs": [
    {
     "data": {
      "text/html": [
       "<div>\n",
       "<style scoped>\n",
       "    .dataframe tbody tr th:only-of-type {\n",
       "        vertical-align: middle;\n",
       "    }\n",
       "\n",
       "    .dataframe tbody tr th {\n",
       "        vertical-align: top;\n",
       "    }\n",
       "\n",
       "    .dataframe thead th {\n",
       "        text-align: right;\n",
       "    }\n",
       "</style>\n",
       "<table border=\"1\" class=\"dataframe\">\n",
       "  <thead>\n",
       "    <tr style=\"text-align: right;\">\n",
       "      <th></th>\n",
       "      <th>VIF Factors</th>\n",
       "      <th>features</th>\n",
       "    </tr>\n",
       "  </thead>\n",
       "  <tbody>\n",
       "    <tr>\n",
       "      <td>0</td>\n",
       "      <td>6.84</td>\n",
       "      <td>Cylinders</td>\n",
       "    </tr>\n",
       "    <tr>\n",
       "      <td>1</td>\n",
       "      <td>16.10</td>\n",
       "      <td>Displacement</td>\n",
       "    </tr>\n",
       "    <tr>\n",
       "      <td>2</td>\n",
       "      <td>8.82</td>\n",
       "      <td>Horsepower</td>\n",
       "    </tr>\n",
       "    <tr>\n",
       "      <td>3</td>\n",
       "      <td>10.69</td>\n",
       "      <td>Weight</td>\n",
       "    </tr>\n",
       "    <tr>\n",
       "      <td>4</td>\n",
       "      <td>2.49</td>\n",
       "      <td>Acceleration</td>\n",
       "    </tr>\n",
       "    <tr>\n",
       "      <td>5</td>\n",
       "      <td>1.22</td>\n",
       "      <td>Age</td>\n",
       "    </tr>\n",
       "  </tbody>\n",
       "</table>\n",
       "</div>"
      ],
      "text/plain": [
       "   VIF Factors      features\n",
       "0         6.84     Cylinders\n",
       "1        16.10  Displacement\n",
       "2         8.82    Horsepower\n",
       "3        10.69        Weight\n",
       "4         2.49  Acceleration\n",
       "5         1.22           Age"
      ]
     },
     "execution_count": 23,
     "metadata": {},
     "output_type": "execute_result"
    }
   ],
   "source": [
    "vif.round(2)"
   ]
  },
  {
   "cell_type": "markdown",
   "metadata": {},
   "source": [
    "### 1: Not correlated, 1-5: Moderately correlated, >5: Highly correlated"
   ]
  },
  {
   "cell_type": "code",
   "execution_count": 24,
   "metadata": {},
   "outputs": [],
   "source": [
    "X = X.drop(['Displacement', 'Weight'], axis=1)"
   ]
  },
  {
   "cell_type": "code",
   "execution_count": 25,
   "metadata": {},
   "outputs": [],
   "source": [
    "vif = pd.DataFrame()\n",
    "vif['VIF Factors'] = [variance_inflation_factor(X.values, i) for i in range(X.shape[1])]"
   ]
  },
  {
   "cell_type": "code",
   "execution_count": 26,
   "metadata": {},
   "outputs": [],
   "source": [
    "vif['features'] = X.columns"
   ]
  },
  {
   "cell_type": "code",
   "execution_count": 27,
   "metadata": {},
   "outputs": [
    {
     "data": {
      "text/html": [
       "<div>\n",
       "<style scoped>\n",
       "    .dataframe tbody tr th:only-of-type {\n",
       "        vertical-align: middle;\n",
       "    }\n",
       "\n",
       "    .dataframe tbody tr th {\n",
       "        vertical-align: top;\n",
       "    }\n",
       "\n",
       "    .dataframe thead th {\n",
       "        text-align: right;\n",
       "    }\n",
       "</style>\n",
       "<table border=\"1\" class=\"dataframe\">\n",
       "  <thead>\n",
       "    <tr style=\"text-align: right;\">\n",
       "      <th></th>\n",
       "      <th>VIF Factors</th>\n",
       "      <th>features</th>\n",
       "    </tr>\n",
       "  </thead>\n",
       "  <tbody>\n",
       "    <tr>\n",
       "      <td>0</td>\n",
       "      <td>3.05</td>\n",
       "      <td>Cylinders</td>\n",
       "    </tr>\n",
       "    <tr>\n",
       "      <td>1</td>\n",
       "      <td>4.56</td>\n",
       "      <td>Horsepower</td>\n",
       "    </tr>\n",
       "    <tr>\n",
       "      <td>2</td>\n",
       "      <td>1.90</td>\n",
       "      <td>Acceleration</td>\n",
       "    </tr>\n",
       "    <tr>\n",
       "      <td>3</td>\n",
       "      <td>1.20</td>\n",
       "      <td>Age</td>\n",
       "    </tr>\n",
       "  </tbody>\n",
       "</table>\n",
       "</div>"
      ],
      "text/plain": [
       "   VIF Factors      features\n",
       "0         3.05     Cylinders\n",
       "1         4.56    Horsepower\n",
       "2         1.90  Acceleration\n",
       "3         1.20           Age"
      ]
     },
     "execution_count": 27,
     "metadata": {},
     "output_type": "execute_result"
    }
   ],
   "source": [
    "vif.round(2)"
   ]
  },
  {
   "cell_type": "code",
   "execution_count": 28,
   "metadata": {},
   "outputs": [],
   "source": [
    "X = df.drop(['MPG', 'Displacement', 'Weight', 'Origin'], axis=1)\n",
    "Y = df['MPG']\n",
    "\n",
    "x_train, x_test, y_train, y_test = train_test_split(X, Y, test_size=0.2)"
   ]
  },
  {
   "cell_type": "code",
   "execution_count": 29,
   "metadata": {},
   "outputs": [],
   "source": [
    "linear_model = LinearRegression(normalize=True).fit(x_train, y_train)"
   ]
  },
  {
   "cell_type": "code",
   "execution_count": 30,
   "metadata": {},
   "outputs": [
    {
     "name": "stdout",
     "output_type": "stream",
     "text": [
      "Training Score:  0.7216074006642206\n"
     ]
    }
   ],
   "source": [
    "print(\"Training Score: \", linear_model.score(x_train, y_train))"
   ]
  },
  {
   "cell_type": "code",
   "execution_count": 31,
   "metadata": {},
   "outputs": [],
   "source": [
    "y_pred = linear_model.predict(x_test)"
   ]
  },
  {
   "cell_type": "code",
   "execution_count": 32,
   "metadata": {},
   "outputs": [
    {
     "name": "stdout",
     "output_type": "stream",
     "text": [
      "Testing Score:  0.7174681167103965\n"
     ]
    }
   ],
   "source": [
    "print(\"Testing Score: \", r2_score(y_test, y_pred))"
   ]
  },
  {
   "cell_type": "code",
   "execution_count": 34,
   "metadata": {},
   "outputs": [
    {
     "name": "stdout",
     "output_type": "stream",
     "text": [
      "Adjusted_R2_Score:  0.7019869176260346\n"
     ]
    }
   ],
   "source": [
    "print(\"Adjusted_R2_Score: \", adjusted_r2(r2_score(y_test, y_pred), y_test, x_test))"
   ]
  }
 ],
 "metadata": {
  "kernelspec": {
   "display_name": "Python 3",
   "language": "python",
   "name": "python3"
  },
  "language_info": {
   "codemirror_mode": {
    "name": "ipython",
    "version": 3
   },
   "file_extension": ".py",
   "mimetype": "text/x-python",
   "name": "python",
   "nbconvert_exporter": "python",
   "pygments_lexer": "ipython3",
   "version": "3.7.4"
  }
 },
 "nbformat": 4,
 "nbformat_minor": 2
}
